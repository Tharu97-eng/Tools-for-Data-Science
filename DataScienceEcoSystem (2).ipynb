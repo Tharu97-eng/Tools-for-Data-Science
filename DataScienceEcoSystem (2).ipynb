{
 "cells": [
  {
   "cell_type": "markdown",
   "id": "94943f47",
   "metadata": {},
   "source": [
    "# Data Science Tools and Ecosystem"
   ]
  },
  {
   "cell_type": "markdown",
   "id": "685dee87",
   "metadata": {},
   "source": [
    "In this notebook, Data Science Tools and Ecosystem are summerized"
   ]
  },
  {
   "cell_type": "markdown",
   "id": "b1670853",
   "metadata": {},
   "source": [
    "**Objectives:**\n",
    "- Python\n",
    "- R\n",
    "- SQL\n"
   ]
  },
  {
   "cell_type": "markdown",
   "id": "75029b84",
   "metadata": {},
   "source": [
    "Some of the popular languages that Data Scientists use are:\n",
    "1. Python\n",
    "2. R\n",
    "3. SQL\n",
    "4. Scala\n",
    "5. Java\n",
    "6. c++\n",
    "7. Julia\n",
    "8. JS\n",
    "9. Php\n",
    "10. Go"
   ]
  },
  {
   "cell_type": "markdown",
   "id": "126cb694",
   "metadata": {},
   "source": [
    "Some of the commonly used libraries used by Data Scientists include:\n",
    "1. Pandas\n",
    "2. Numpy\n",
    "3. Matplotlib\n",
    "4. Seaborn\n",
    "5. Keras\n",
    "6. TensorFlow"
   ]
  },
  {
   "cell_type": "markdown",
   "id": "074c6f8c",
   "metadata": {},
   "source": [
    "|Data Science Tools|\n",
    "|------|\n",
    "|Python|\n",
    "|Apache Spark|\n",
    "|Jupyter|"
   ]
  },
  {
   "cell_type": "markdown",
   "id": "06efcca5",
   "metadata": {},
   "source": [
    "### Below are a few examples of evaluating arithmetic expressions in Python."
   ]
  },
  {
   "cell_type": "code",
   "execution_count": 1,
   "id": "91283ad6",
   "metadata": {},
   "outputs": [],
   "source": [
    "#This a simple arithmetic expression to mutiply then add integers."
   ]
  },
  {
   "cell_type": "code",
   "execution_count": 2,
   "id": "b07eb4ee",
   "metadata": {},
   "outputs": [
    {
     "data": {
      "text/plain": [
       "17"
      ]
     },
     "execution_count": 2,
     "metadata": {},
     "output_type": "execute_result"
    }
   ],
   "source": [
    "(3*4)+5"
   ]
  },
  {
   "cell_type": "code",
   "execution_count": 3,
   "id": "f5be1dda",
   "metadata": {},
   "outputs": [],
   "source": [
    "#This will convert 200 minutes to hours by diving by 60.\n"
   ]
  },
  {
   "cell_type": "code",
   "execution_count": 4,
   "id": "a26a4fce",
   "metadata": {},
   "outputs": [
    {
     "data": {
      "text/plain": [
       "3.3333333333333335"
      ]
     },
     "execution_count": 4,
     "metadata": {},
     "output_type": "execute_result"
    }
   ],
   "source": [
    "X = 200/60\n",
    "X"
   ]
  },
  {
   "cell_type": "markdown",
   "id": "f58c1ee1",
   "metadata": {},
   "source": [
    "# Author\n",
    "Tharika Mallawa Arachchi"
   ]
  },
  {
   "cell_type": "code",
   "execution_count": null,
   "id": "939658b8",
   "metadata": {},
   "outputs": [],
   "source": []
  }
 ],
 "metadata": {
  "kernelspec": {
   "display_name": "Python 3 (ipykernel)",
   "language": "python",
   "name": "python3"
  },
  "language_info": {
   "codemirror_mode": {
    "name": "ipython",
    "version": 3
   },
   "file_extension": ".py",
   "mimetype": "text/x-python",
   "name": "python",
   "nbconvert_exporter": "python",
   "pygments_lexer": "ipython3",
   "version": "3.10.9"
  }
 },
 "nbformat": 4,
 "nbformat_minor": 5
}
